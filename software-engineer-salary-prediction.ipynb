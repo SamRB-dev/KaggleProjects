{
 "cells": [
  {
   "cell_type": "code",
   "execution_count": 1,
   "id": "9bb78f65",
   "metadata": {
    "_cell_guid": "b1076dfc-b9ad-4769-8c92-a6c4dae69d19",
    "_uuid": "8f2839f25d086af736a60e9eeb907d3b93b6e0e5",
    "execution": {
     "iopub.execute_input": "2023-12-13T20:43:05.737286Z",
     "iopub.status.busy": "2023-12-13T20:43:05.736113Z",
     "iopub.status.idle": "2023-12-13T20:43:08.667780Z",
     "shell.execute_reply": "2023-12-13T20:43:08.666348Z"
    },
    "papermill": {
     "duration": 2.943584,
     "end_time": "2023-12-13T20:43:08.672766",
     "exception": false,
     "start_time": "2023-12-13T20:43:05.729182",
     "status": "completed"
    },
    "tags": []
   },
   "outputs": [
    {
     "name": "stdout",
     "output_type": "stream",
     "text": [
      "/kaggle/input/salary-data/Salary_Data.csv\n"
     ]
    }
   ],
   "source": [
    "# Import\n",
    "import numpy as np\n",
    "import pandas as pd\n",
    "from matplotlib import pyplot as plt\n",
    "import seaborn \n",
    "# seaborn.set_theme(style=\"darkgrid\")\n",
    "%matplotlib inline\n",
    "\n",
    "# Input data files are available in the read-only \"../input/\" directory\n",
    "# For example, running this (by clicking run or pressing Shift+Enter) will list all files under the input directory\n",
    "\n",
    "import os\n",
    "for dirname, _, filenames in os.walk('/kaggle/input'):\n",
    "    for filename in filenames:\n",
    "        print(os.path.join(dirname, filename))"
   ]
  },
  {
   "cell_type": "code",
   "execution_count": 2,
   "id": "b175574c",
   "metadata": {
    "execution": {
     "iopub.execute_input": "2023-12-13T20:43:08.685998Z",
     "iopub.status.busy": "2023-12-13T20:43:08.684038Z",
     "iopub.status.idle": "2023-12-13T20:43:08.692294Z",
     "shell.execute_reply": "2023-12-13T20:43:08.690671Z"
    },
    "papermill": {
     "duration": 0.017693,
     "end_time": "2023-12-13T20:43:08.695632",
     "exception": false,
     "start_time": "2023-12-13T20:43:08.677939",
     "status": "completed"
    },
    "tags": []
   },
   "outputs": [],
   "source": [
    "# Path\n",
    "path = \"/kaggle/input/salary-data/Salary_Data.csv\""
   ]
  },
  {
   "cell_type": "code",
   "execution_count": 3,
   "id": "e9a5a83e",
   "metadata": {
    "execution": {
     "iopub.execute_input": "2023-12-13T20:43:08.708183Z",
     "iopub.status.busy": "2023-12-13T20:43:08.707482Z",
     "iopub.status.idle": "2023-12-13T20:43:08.775025Z",
     "shell.execute_reply": "2023-12-13T20:43:08.773182Z"
    },
    "papermill": {
     "duration": 0.077091,
     "end_time": "2023-12-13T20:43:08.777960",
     "exception": false,
     "start_time": "2023-12-13T20:43:08.700869",
     "status": "completed"
    },
    "tags": []
   },
   "outputs": [
    {
     "data": {
      "text/html": [
       "<div>\n",
       "<style scoped>\n",
       "    .dataframe tbody tr th:only-of-type {\n",
       "        vertical-align: middle;\n",
       "    }\n",
       "\n",
       "    .dataframe tbody tr th {\n",
       "        vertical-align: top;\n",
       "    }\n",
       "\n",
       "    .dataframe thead th {\n",
       "        text-align: right;\n",
       "    }\n",
       "</style>\n",
       "<table border=\"1\" class=\"dataframe\">\n",
       "  <thead>\n",
       "    <tr style=\"text-align: right;\">\n",
       "      <th></th>\n",
       "      <th>Age</th>\n",
       "      <th>Gender</th>\n",
       "      <th>Education Level</th>\n",
       "      <th>Job Title</th>\n",
       "      <th>Years of Experience</th>\n",
       "      <th>Salary</th>\n",
       "    </tr>\n",
       "  </thead>\n",
       "  <tbody>\n",
       "    <tr>\n",
       "      <th>0</th>\n",
       "      <td>32.0</td>\n",
       "      <td>Male</td>\n",
       "      <td>Bachelor's</td>\n",
       "      <td>Software Engineer</td>\n",
       "      <td>5.0</td>\n",
       "      <td>90000.0</td>\n",
       "    </tr>\n",
       "    <tr>\n",
       "      <th>1</th>\n",
       "      <td>28.0</td>\n",
       "      <td>Female</td>\n",
       "      <td>Master's</td>\n",
       "      <td>Data Analyst</td>\n",
       "      <td>3.0</td>\n",
       "      <td>65000.0</td>\n",
       "    </tr>\n",
       "    <tr>\n",
       "      <th>2</th>\n",
       "      <td>45.0</td>\n",
       "      <td>Male</td>\n",
       "      <td>PhD</td>\n",
       "      <td>Senior Manager</td>\n",
       "      <td>15.0</td>\n",
       "      <td>150000.0</td>\n",
       "    </tr>\n",
       "    <tr>\n",
       "      <th>3</th>\n",
       "      <td>36.0</td>\n",
       "      <td>Female</td>\n",
       "      <td>Bachelor's</td>\n",
       "      <td>Sales Associate</td>\n",
       "      <td>7.0</td>\n",
       "      <td>60000.0</td>\n",
       "    </tr>\n",
       "    <tr>\n",
       "      <th>4</th>\n",
       "      <td>52.0</td>\n",
       "      <td>Male</td>\n",
       "      <td>Master's</td>\n",
       "      <td>Director</td>\n",
       "      <td>20.0</td>\n",
       "      <td>200000.0</td>\n",
       "    </tr>\n",
       "    <tr>\n",
       "      <th>5</th>\n",
       "      <td>29.0</td>\n",
       "      <td>Male</td>\n",
       "      <td>Bachelor's</td>\n",
       "      <td>Marketing Analyst</td>\n",
       "      <td>2.0</td>\n",
       "      <td>55000.0</td>\n",
       "    </tr>\n",
       "    <tr>\n",
       "      <th>6</th>\n",
       "      <td>42.0</td>\n",
       "      <td>Female</td>\n",
       "      <td>Master's</td>\n",
       "      <td>Product Manager</td>\n",
       "      <td>12.0</td>\n",
       "      <td>120000.0</td>\n",
       "    </tr>\n",
       "    <tr>\n",
       "      <th>7</th>\n",
       "      <td>31.0</td>\n",
       "      <td>Male</td>\n",
       "      <td>Bachelor's</td>\n",
       "      <td>Sales Manager</td>\n",
       "      <td>4.0</td>\n",
       "      <td>80000.0</td>\n",
       "    </tr>\n",
       "    <tr>\n",
       "      <th>8</th>\n",
       "      <td>26.0</td>\n",
       "      <td>Female</td>\n",
       "      <td>Bachelor's</td>\n",
       "      <td>Marketing Coordinator</td>\n",
       "      <td>1.0</td>\n",
       "      <td>45000.0</td>\n",
       "    </tr>\n",
       "    <tr>\n",
       "      <th>9</th>\n",
       "      <td>38.0</td>\n",
       "      <td>Male</td>\n",
       "      <td>PhD</td>\n",
       "      <td>Senior Scientist</td>\n",
       "      <td>10.0</td>\n",
       "      <td>110000.0</td>\n",
       "    </tr>\n",
       "  </tbody>\n",
       "</table>\n",
       "</div>"
      ],
      "text/plain": [
       "    Age  Gender Education Level              Job Title  Years of Experience  \\\n",
       "0  32.0    Male      Bachelor's      Software Engineer                  5.0   \n",
       "1  28.0  Female        Master's           Data Analyst                  3.0   \n",
       "2  45.0    Male             PhD         Senior Manager                 15.0   \n",
       "3  36.0  Female      Bachelor's        Sales Associate                  7.0   \n",
       "4  52.0    Male        Master's               Director                 20.0   \n",
       "5  29.0    Male      Bachelor's      Marketing Analyst                  2.0   \n",
       "6  42.0  Female        Master's        Product Manager                 12.0   \n",
       "7  31.0    Male      Bachelor's          Sales Manager                  4.0   \n",
       "8  26.0  Female      Bachelor's  Marketing Coordinator                  1.0   \n",
       "9  38.0    Male             PhD       Senior Scientist                 10.0   \n",
       "\n",
       "     Salary  \n",
       "0   90000.0  \n",
       "1   65000.0  \n",
       "2  150000.0  \n",
       "3   60000.0  \n",
       "4  200000.0  \n",
       "5   55000.0  \n",
       "6  120000.0  \n",
       "7   80000.0  \n",
       "8   45000.0  \n",
       "9  110000.0  "
      ]
     },
     "execution_count": 3,
     "metadata": {},
     "output_type": "execute_result"
    }
   ],
   "source": [
    "# Loading the dataset\n",
    "data = pd.read_csv(path)\n",
    "\n",
    "# Head\n",
    "data.head(10)"
   ]
  },
  {
   "cell_type": "code",
   "execution_count": 4,
   "id": "b494b332",
   "metadata": {
    "execution": {
     "iopub.execute_input": "2023-12-13T20:43:08.790079Z",
     "iopub.status.busy": "2023-12-13T20:43:08.789679Z",
     "iopub.status.idle": "2023-12-13T20:43:08.832616Z",
     "shell.execute_reply": "2023-12-13T20:43:08.831593Z"
    },
    "papermill": {
     "duration": 0.053667,
     "end_time": "2023-12-13T20:43:08.836092",
     "exception": false,
     "start_time": "2023-12-13T20:43:08.782425",
     "status": "completed"
    },
    "tags": []
   },
   "outputs": [
    {
     "name": "stdout",
     "output_type": "stream",
     "text": [
      "<class 'pandas.core.frame.DataFrame'>\n",
      "RangeIndex: 6704 entries, 0 to 6703\n",
      "Data columns (total 6 columns):\n",
      " #   Column               Non-Null Count  Dtype  \n",
      "---  ------               --------------  -----  \n",
      " 0   Age                  6702 non-null   float64\n",
      " 1   Gender               6702 non-null   object \n",
      " 2   Education Level      6701 non-null   object \n",
      " 3   Job Title            6702 non-null   object \n",
      " 4   Years of Experience  6701 non-null   float64\n",
      " 5   Salary               6699 non-null   float64\n",
      "dtypes: float64(3), object(3)\n",
      "memory usage: 314.4+ KB\n"
     ]
    }
   ],
   "source": [
    "# Info\n",
    "data.info()"
   ]
  },
  {
   "cell_type": "code",
   "execution_count": 5,
   "id": "aa9181b9",
   "metadata": {
    "execution": {
     "iopub.execute_input": "2023-12-13T20:43:08.849726Z",
     "iopub.status.busy": "2023-12-13T20:43:08.849036Z",
     "iopub.status.idle": "2023-12-13T20:43:09.006452Z",
     "shell.execute_reply": "2023-12-13T20:43:09.004333Z"
    },
    "papermill": {
     "duration": 0.168798,
     "end_time": "2023-12-13T20:43:09.009510",
     "exception": false,
     "start_time": "2023-12-13T20:43:08.840712",
     "status": "completed"
    },
    "tags": []
   },
   "outputs": [
    {
     "data": {
      "text/html": [
       "<div>\n",
       "<style scoped>\n",
       "    .dataframe tbody tr th:only-of-type {\n",
       "        vertical-align: middle;\n",
       "    }\n",
       "\n",
       "    .dataframe tbody tr th {\n",
       "        vertical-align: top;\n",
       "    }\n",
       "\n",
       "    .dataframe thead th {\n",
       "        text-align: right;\n",
       "    }\n",
       "</style>\n",
       "<table border=\"1\" class=\"dataframe\">\n",
       "  <thead>\n",
       "    <tr style=\"text-align: right;\">\n",
       "      <th></th>\n",
       "      <th>count</th>\n",
       "      <th>mean</th>\n",
       "      <th>std</th>\n",
       "      <th>min</th>\n",
       "      <th>25%</th>\n",
       "      <th>50%</th>\n",
       "      <th>75%</th>\n",
       "      <th>max</th>\n",
       "    </tr>\n",
       "  </thead>\n",
       "  <tbody>\n",
       "    <tr>\n",
       "      <th>Age</th>\n",
       "      <td>6702.0</td>\n",
       "      <td>33.620859</td>\n",
       "      <td>7.614633</td>\n",
       "      <td>21.0</td>\n",
       "      <td>28.0</td>\n",
       "      <td>32.0</td>\n",
       "      <td>38.0</td>\n",
       "      <td>62.0</td>\n",
       "    </tr>\n",
       "    <tr>\n",
       "      <th>Years of Experience</th>\n",
       "      <td>6701.0</td>\n",
       "      <td>8.094687</td>\n",
       "      <td>6.059003</td>\n",
       "      <td>0.0</td>\n",
       "      <td>3.0</td>\n",
       "      <td>7.0</td>\n",
       "      <td>12.0</td>\n",
       "      <td>34.0</td>\n",
       "    </tr>\n",
       "    <tr>\n",
       "      <th>Salary</th>\n",
       "      <td>6699.0</td>\n",
       "      <td>115326.964771</td>\n",
       "      <td>52786.183911</td>\n",
       "      <td>350.0</td>\n",
       "      <td>70000.0</td>\n",
       "      <td>115000.0</td>\n",
       "      <td>160000.0</td>\n",
       "      <td>250000.0</td>\n",
       "    </tr>\n",
       "  </tbody>\n",
       "</table>\n",
       "</div>"
      ],
      "text/plain": [
       "                      count           mean           std    min      25%  \\\n",
       "Age                  6702.0      33.620859      7.614633   21.0     28.0   \n",
       "Years of Experience  6701.0       8.094687      6.059003    0.0      3.0   \n",
       "Salary               6699.0  115326.964771  52786.183911  350.0  70000.0   \n",
       "\n",
       "                          50%       75%       max  \n",
       "Age                      32.0      38.0      62.0  \n",
       "Years of Experience       7.0      12.0      34.0  \n",
       "Salary               115000.0  160000.0  250000.0  "
      ]
     },
     "execution_count": 5,
     "metadata": {},
     "output_type": "execute_result"
    }
   ],
   "source": [
    "# Basic stats of quantitive data\n",
    "data.describe().T"
   ]
  },
  {
   "cell_type": "code",
   "execution_count": 6,
   "id": "9901a865",
   "metadata": {
    "execution": {
     "iopub.execute_input": "2023-12-13T20:43:09.026182Z",
     "iopub.status.busy": "2023-12-13T20:43:09.025067Z",
     "iopub.status.idle": "2023-12-13T20:43:09.067037Z",
     "shell.execute_reply": "2023-12-13T20:43:09.065872Z"
    },
    "papermill": {
     "duration": 0.056707,
     "end_time": "2023-12-13T20:43:09.073460",
     "exception": false,
     "start_time": "2023-12-13T20:43:09.016753",
     "status": "completed"
    },
    "tags": []
   },
   "outputs": [
    {
     "data": {
      "text/html": [
       "<div>\n",
       "<style scoped>\n",
       "    .dataframe tbody tr th:only-of-type {\n",
       "        vertical-align: middle;\n",
       "    }\n",
       "\n",
       "    .dataframe tbody tr th {\n",
       "        vertical-align: top;\n",
       "    }\n",
       "\n",
       "    .dataframe thead th {\n",
       "        text-align: right;\n",
       "    }\n",
       "</style>\n",
       "<table border=\"1\" class=\"dataframe\">\n",
       "  <thead>\n",
       "    <tr style=\"text-align: right;\">\n",
       "      <th></th>\n",
       "      <th>count</th>\n",
       "      <th>unique</th>\n",
       "      <th>top</th>\n",
       "      <th>freq</th>\n",
       "    </tr>\n",
       "  </thead>\n",
       "  <tbody>\n",
       "    <tr>\n",
       "      <th>Gender</th>\n",
       "      <td>6702</td>\n",
       "      <td>3</td>\n",
       "      <td>Male</td>\n",
       "      <td>3674</td>\n",
       "    </tr>\n",
       "    <tr>\n",
       "      <th>Education Level</th>\n",
       "      <td>6701</td>\n",
       "      <td>7</td>\n",
       "      <td>Bachelor's Degree</td>\n",
       "      <td>2267</td>\n",
       "    </tr>\n",
       "    <tr>\n",
       "      <th>Job Title</th>\n",
       "      <td>6702</td>\n",
       "      <td>193</td>\n",
       "      <td>Software Engineer</td>\n",
       "      <td>518</td>\n",
       "    </tr>\n",
       "  </tbody>\n",
       "</table>\n",
       "</div>"
      ],
      "text/plain": [
       "                count unique                top  freq\n",
       "Gender           6702      3               Male  3674\n",
       "Education Level  6701      7  Bachelor's Degree  2267\n",
       "Job Title        6702    193  Software Engineer   518"
      ]
     },
     "execution_count": 6,
     "metadata": {},
     "output_type": "execute_result"
    }
   ],
   "source": [
    "# Basic stats of qualitative data\n",
    "data.describe(include=\"object\").T"
   ]
  },
  {
   "cell_type": "code",
   "execution_count": 7,
   "id": "98899d7c",
   "metadata": {
    "execution": {
     "iopub.execute_input": "2023-12-13T20:43:09.096657Z",
     "iopub.status.busy": "2023-12-13T20:43:09.093549Z",
     "iopub.status.idle": "2023-12-13T20:43:10.182835Z",
     "shell.execute_reply": "2023-12-13T20:43:10.181176Z"
    },
    "papermill": {
     "duration": 1.102043,
     "end_time": "2023-12-13T20:43:10.186496",
     "exception": false,
     "start_time": "2023-12-13T20:43:09.084453",
     "status": "completed"
    },
    "tags": []
   },
   "outputs": [
    {
     "data": {
      "text/plain": [
       "array([[<Axes: title={'center': 'Age'}>,\n",
       "        <Axes: title={'center': 'Years of Experience'}>],\n",
       "       [<Axes: title={'center': 'Salary'}>, <Axes: >]], dtype=object)"
      ]
     },
     "execution_count": 7,
     "metadata": {},
     "output_type": "execute_result"
    },
    {
     "data": {
      "image/png": "[encoded data removed]",
      "text/plain": [
       "<Figure size 1500x1000 with 4 Axes>"
      ]
     },
     "metadata": {},
     "output_type": "display_data"
    }
   ],
   "source": [
    "# Distribution of quantitive data\n",
    "data.hist(figsize=(15,10))"
   ]
  },
  {
   "cell_type": "code",
   "execution_count": 8,
   "id": "c0f6ffe3",
   "metadata": {
    "execution": {
     "iopub.execute_input": "2023-12-13T20:43:10.204110Z",
     "iopub.status.busy": "2023-12-13T20:43:10.203388Z",
     "iopub.status.idle": "2023-12-13T20:43:10.846663Z",
     "shell.execute_reply": "2023-12-13T20:43:10.844475Z"
    },
    "papermill": {
     "duration": 0.655069,
     "end_time": "2023-12-13T20:43:10.850220",
     "exception": false,
     "start_time": "2023-12-13T20:43:10.195151",
     "status": "completed"
    },
    "tags": []
   },
   "outputs": [
    {
     "data": {
      "text/plain": [
       "<seaborn.axisgrid.FacetGrid at 0x7b48a1419f00>"
      ]
     },
     "execution_count": 8,
     "metadata": {},
     "output_type": "execute_result"
    },
    {
     "data": {
      "image/png": "[encoded data removed]",
      "text/plain": [
       "<Figure size 500x500 with 1 Axes>"
      ]
     },
     "metadata": {},
     "output_type": "display_data"
    },
    {
     "data": {
      "image/png": "[encoded data removed]",
      "text/plain": [
       "<Figure size 500x500 with 1 Axes>"
      ]
     },
     "metadata": {},
     "output_type": "display_data"
    }
   ],
   "source": [
    "# distribution of qualitative data\n",
    "seaborn.catplot(data=data,x = \"Gender\", kind=\"count\")\n",
    "seaborn.catplot(data=data,y = \"Education Level\", kind=\"count\")"
   ]
  },
  {
   "cell_type": "code",
   "execution_count": 9,
   "id": "c40671fa",
   "metadata": {
    "execution": {
     "iopub.execute_input": "2023-12-13T20:43:10.866140Z",
     "iopub.status.busy": "2023-12-13T20:43:10.865766Z",
     "iopub.status.idle": "2023-12-13T20:43:10.875349Z",
     "shell.execute_reply": "2023-12-13T20:43:10.873286Z"
    },
    "papermill": {
     "duration": 0.021911,
     "end_time": "2023-12-13T20:43:10.878950",
     "exception": false,
     "start_time": "2023-12-13T20:43:10.857039",
     "status": "completed"
    },
    "tags": []
   },
   "outputs": [
    {
     "data": {
      "text/plain": [
       "array([\"Bachelor's\", \"Master's\", 'PhD', nan, \"Bachelor's Degree\",\n",
       "       \"Master's Degree\", 'High School', 'phD'], dtype=object)"
      ]
     },
     "execution_count": 9,
     "metadata": {},
     "output_type": "execute_result"
    }
   ],
   "source": [
    "# Unique Values in Education Level column\n",
    "data[\"Education Level\"].unique()"
   ]
  },
  {
   "cell_type": "code",
   "execution_count": 10,
   "id": "b105d140",
   "metadata": {
    "execution": {
     "iopub.execute_input": "2023-12-13T20:43:10.895491Z",
     "iopub.status.busy": "2023-12-13T20:43:10.895007Z",
     "iopub.status.idle": "2023-12-13T20:43:10.908420Z",
     "shell.execute_reply": "2023-12-13T20:43:10.906078Z"
    },
    "papermill": {
     "duration": 0.025434,
     "end_time": "2023-12-13T20:43:10.912040",
     "exception": false,
     "start_time": "2023-12-13T20:43:10.886606",
     "status": "completed"
    },
    "tags": []
   },
   "outputs": [
    {
     "data": {
      "text/plain": [
       "Age                    2\n",
       "Gender                 2\n",
       "Education Level        3\n",
       "Job Title              2\n",
       "Years of Experience    3\n",
       "Salary                 5\n",
       "dtype: int64"
      ]
     },
     "execution_count": 10,
     "metadata": {},
     "output_type": "execute_result"
    }
   ],
   "source": [
    "# Sum of missing/NAN values\n",
    "data.isnull().sum()"
   ]
  },
  {
   "cell_type": "code",
   "execution_count": 11,
   "id": "227818e8",
   "metadata": {
    "execution": {
     "iopub.execute_input": "2023-12-13T20:43:10.930025Z",
     "iopub.status.busy": "2023-12-13T20:43:10.929396Z",
     "iopub.status.idle": "2023-12-13T20:43:10.941373Z",
     "shell.execute_reply": "2023-12-13T20:43:10.939958Z"
    },
    "papermill": {
     "duration": 0.024731,
     "end_time": "2023-12-13T20:43:10.944379",
     "exception": false,
     "start_time": "2023-12-13T20:43:10.919648",
     "status": "completed"
    },
    "tags": []
   },
   "outputs": [
    {
     "data": {
      "text/plain": [
       "Age                    0\n",
       "Gender                 0\n",
       "Education Level        0\n",
       "Job Title              0\n",
       "Years of Experience    0\n",
       "Salary                 0\n",
       "dtype: int64"
      ]
     },
     "execution_count": 11,
     "metadata": {},
     "output_type": "execute_result"
    }
   ],
   "source": [
    "# Dropping rows with missing/NAN values\n",
    "data = data.dropna()\n",
    "\n",
    "# Recheck\n",
    "data.isnull().sum()"
   ]
  },
  {
   "cell_type": "markdown",
   "id": "cc4674fd",
   "metadata": {
    "papermill": {
     "duration": 0.007494,
     "end_time": "2023-12-13T20:43:10.959938",
     "exception": false,
     "start_time": "2023-12-13T20:43:10.952444",
     "status": "completed"
    },
    "tags": []
   },
   "source": [
    "### **Synopsis**: The higher the experience, the better the pay gets with respect to the field/job title. The line graph below doesn't take job/field into account."
   ]
  },
  {
   "cell_type": "code",
   "execution_count": 12,
   "id": "9e3ca6f1",
   "metadata": {
    "execution": {
     "iopub.execute_input": "2023-12-13T20:43:10.978049Z",
     "iopub.status.busy": "2023-12-13T20:43:10.977204Z",
     "iopub.status.idle": "2023-12-13T20:43:12.030440Z",
     "shell.execute_reply": "2023-12-13T20:43:12.029451Z"
    },
    "papermill": {
     "duration": 1.064479,
     "end_time": "2023-12-13T20:43:12.032788",
     "exception": false,
     "start_time": "2023-12-13T20:43:10.968309",
     "status": "completed"
    },
    "tags": []
   },
   "outputs": [
    {
     "data": {
      "text/plain": [
       "<Axes: xlabel='Years of Experience', ylabel='Salary'>"
      ]
     },
     "execution_count": 12,
     "metadata": {},
     "output_type": "execute_result"
    },
    {
     "data": {
      "image/png": "[encoded data removed]",
      "text/plain": [
       "<Figure size 640x480 with 1 Axes>"
      ]
     },
     "metadata": {},
     "output_type": "display_data"
    }
   ],
   "source": [
    "seaborn.lineplot(data = data,x = \"Years of Experience\",y = \"Salary\")"
   ]
  },
  {
   "cell_type": "code",
   "execution_count": 13,
   "id": "197c4429",
   "metadata": {
    "execution": {
     "iopub.execute_input": "2023-12-13T20:43:12.048765Z",
     "iopub.status.busy": "2023-12-13T20:43:12.048109Z",
     "iopub.status.idle": "2023-12-13T20:43:12.055922Z",
     "shell.execute_reply": "2023-12-13T20:43:12.054989Z"
    },
    "papermill": {
     "duration": 0.018509,
     "end_time": "2023-12-13T20:43:12.058107",
     "exception": false,
     "start_time": "2023-12-13T20:43:12.039598",
     "status": "completed"
    },
    "tags": []
   },
   "outputs": [
    {
     "data": {
      "text/plain": [
       "0           Software Engineer\n",
       "1                Data Analyst\n",
       "2              Senior Manager\n",
       "3             Sales Associate\n",
       "4                    Director\n",
       "                ...          \n",
       "6699    Director of Marketing\n",
       "6700          Sales Associate\n",
       "6701        Financial Manager\n",
       "6702        Marketing Manager\n",
       "6703          Sales Executive\n",
       "Name: Job Title, Length: 6698, dtype: object"
      ]
     },
     "execution_count": 13,
     "metadata": {},
     "output_type": "execute_result"
    }
   ],
   "source": [
    "# Filtering Dataset based on software engineer title\n",
    "# data = data[(data[\"Job Title\"] == \"Software Engineer\")]\n",
    "data[\"Job Title\"]"
   ]
  },
  {
   "cell_type": "code",
   "execution_count": null,
   "id": "727e2dfa",
   "metadata": {
    "papermill": {
     "duration": 0.006514,
     "end_time": "2023-12-13T20:43:12.071571",
     "exception": false,
     "start_time": "2023-12-13T20:43:12.065057",
     "status": "completed"
    },
    "tags": []
   },
   "outputs": [],
   "source": []
  }
 ],
 "metadata": {
  "kaggle": {
   "accelerator": "none",
   "dataSources": [
    {
     "datasetId": 3282301,
     "sourceId": 5716504,
     "sourceType": "datasetVersion"
    }
   ],
   "dockerImageVersionId": 30615,
   "isGpuEnabled": false,
   "isInternetEnabled": true,
   "language": "python",
   "sourceType": "notebook"
  },
  "kernelspec": {
   "display_name": "Python 3",
   "language": "python",
   "name": "python3"
  },
  "language_info": {
   "codemirror_mode": {
    "name": "ipython",
    "version": 3
   },
   "file_extension": ".py",
   "mimetype": "text/x-python",
   "name": "python",
   "nbconvert_exporter": "python",
   "pygments_lexer": "ipython3",
   "version": "3.10.12"
  },
  "papermill": {
   "default_parameters": {},
   "duration": 10.684677,
   "end_time": "2023-12-13T20:43:12.902339",
   "environment_variables": {},
   "exception": null,
   "input_path": "__notebook__.ipynb",
   "output_path": "__notebook__.ipynb",
   "parameters": {},
   "start_time": "2023-12-13T20:43:02.217662",
   "version": "2.4.0"
  }
 },
 "nbformat": 4,
 "nbformat_minor": 5
}
